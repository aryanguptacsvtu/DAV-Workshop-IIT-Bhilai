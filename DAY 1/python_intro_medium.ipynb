{
  "cells": [
    {
      "cell_type": "markdown",
      "metadata": {},
      "source": [
        "# Intermediate Python for Data Science\n",
        "\n",
        "## Welcome to Intermediate Python!\n",
        "This notebook is designed for students with basic Python knowledge (variables, lists, loops, etc.) to build on those skills for data science. We'll cover:\n",
        "- Functions\n",
        "- List Comprehensions\n",
        "- Error Handling\n",
        "- Basic File Handling\n",
        "- Taking Multiple Inputs and Using `map()`\n",
        "\n",
        "Each section includes explanations, examples, and exercises to practice. Run code cells with `Shift + Enter`. Let's dive in!"
      ]
    },
    {
      "cell_type": "markdown",
      "metadata": {},
      "source": [
        "## 1. Functions\n",
        "\n",
        "Functions allow you to write reusable code. They take inputs (parameters), perform operations, and can return outputs.\n",
        "- Define a function using `def function_name(parameters):`\n",
        "- Use `return` to output a value.\n",
        "- Functions can have default parameters or no parameters at all.\n",
        "\n",
        "Let's see some examples."
      ]
    },
    {
      "cell_type": "code",
      "execution_count": 1,
      "metadata": {},
      "outputs": [
        {
          "name": "stdout",
          "output_type": "stream",
          "text": [
            "Square of 5: 25\n",
            "Hello, Alice!\n",
            "Hi, Bob!\n",
            "Python is widely used in data science!\n"
          ]
        }
      ],
      "source": [
        "# Simple function to calculate square\n",
        "def square(number):\n",
        "    return number * number\n",
        "\n",
        "# Function with multiple parameters and default value\n",
        "def greet(name, greeting=\"Hello\"):\n",
        "    return f\"{greeting}, {name}!\"\n",
        "\n",
        "# Function with no parameters\n",
        "def get_data_science_fact():\n",
        "    return \"Python is widely used in data science!\"\n",
        "\n",
        "# Using the functions\n",
        "print(\"Square of 5:\", square(5))\n",
        "print(greet(\"Alice\"))  # Uses default greeting\n",
        "print(greet(\"Bob\", \"Hi\"))  # Custom greeting\n",
        "print(get_data_science_fact())"
      ]
    },
    {
      "cell_type": "markdown",
      "metadata": {},
      "source": [
        "**Explanation**:\n",
        "- `square` takes a number and returns its square.\n",
        "- `greet` uses a default parameter for `greeting` if none is provided.\n",
        "- `get_data_science_fact` returns a string without needing inputs.\n",
        "- Functions make code modular and reusable, crucial for data science workflows."
      ]
    },
    {
      "cell_type": "markdown",
      "metadata": {},
      "source": [
        "### Exercise 1: Functions\n",
        "1. Write a function `cube` that takes a number and returns its cube (number * number * number).\n",
        "2. Write a function `average` that takes a list of numbers and returns their average.\n",
        "3. Call both functions with example inputs and print the results."
      ]
    },
    {
      "cell_type": "code",
      "execution_count": 2,
      "metadata": {},
      "outputs": [],
      "source": [
        "# Solution in file DAY1.pynb"
      ]
    },
    {
      "cell_type": "markdown",
      "metadata": {},
      "source": [
        "## 2. List Comprehensions\n",
        "\n",
        "List comprehensions provide a concise way to create lists based on existing iterables, often replacing loops.\n",
        "- Syntax: `[expression for item in iterable if condition]`\n",
        "- Useful for filtering or transforming data, common in data science.\n",
        "\n",
        "Let's see examples."
      ]
    },
    {
      "cell_type": "code",
      "execution_count": 3,
      "metadata": {},
      "outputs": [
        {
          "name": "stdout",
          "output_type": "stream",
          "text": [
            "Squares: [1, 4, 9, 16, 25]\n",
            "Even numbers: [2, 4]\n",
            "Uppercase words: ['DATA', 'SCIENCE', 'PYTHON']\n"
          ]
        }
      ],
      "source": [
        "# Basic list comprehension\n",
        "numbers = [1, 2, 3, 4, 5]\n",
        "squares = [n * n for n in numbers]\n",
        "print(\"Squares:\", squares)\n",
        "\n",
        "# List comprehension with condition\n",
        "even_numbers = [n for n in numbers if n % 2 == 0]\n",
        "print(\"Even numbers:\", even_numbers)\n",
        "\n",
        "# Transforming strings\n",
        "words = [\"data\", \"science\", \"python\"]\n",
        "uppercase_words = [word.upper() for word in words]\n",
        "print(\"Uppercase words:\", uppercase_words)"
      ]
    },
    {
      "cell_type": "markdown",
      "metadata": {},
      "source": [
        "**Explanation**:\n",
        "- `squares` creates a list of squared numbers.\n",
        "- `even_numbers` filters numbers divisible by 2.\n",
        "- `uppercase_words` transforms each string to uppercase.\n",
        "- List comprehensions are concise and efficient for data manipulation."
      ]
    },
    {
      "cell_type": "markdown",
      "metadata": {},
      "source": [
        "### Exercise 2: List Comprehensions\n",
        "1. Create a list of numbers from 1 to 10 using `range(1, 11)`.\n",
        "2. Use a list comprehension to create a list of their cubes.\n",
        "3. Use a list comprehension to create a list of only odd numbers from the original list.\n",
        "4. Print both new lists."
      ]
    },
    {
      "cell_type": "code",
      "execution_count": null,
      "metadata": {},
      "outputs": [],
      "source": [
        "# Solution in file DAY1.ipynb"
      ]
    },
    {
      "cell_type": "markdown",
      "metadata": {},
      "source": [
        "## 3. Error Handling\n",
        "\n",
        "Error handling using `try` and `except` helps manage errors gracefully, preventing program crashes.\n",
        "- Use `try` to attempt code that might fail.\n",
        "- Use `except` to handle specific errors or general exceptions.\n",
        "- Useful for robust data processing.\n",
        "\n",
        "Let's try it."
      ]
    },
    {
      "cell_type": "code",
      "execution_count": 4,
      "metadata": {},
      "outputs": [
        {
          "name": "stdout",
          "output_type": "stream",
          "text": [
            "Double the number: 46\n",
            "100 divided by 10 is 10.0\n"
          ]
        }
      ],
      "source": [
        "# Basic error handling\n",
        "try:\n",
        "    number = int(input(\"Enter a number: \"))\n",
        "    print(\"Double the number:\", number * 2)\n",
        "except ValueError:\n",
        "    print(\"Error: Please enter a valid integer!\")\n",
        "\n",
        "# Handling multiple exceptions\n",
        "try:\n",
        "    value = int(input(\"Enter a number to divide 100 by: \"))\n",
        "    result = 100 / value\n",
        "    print(f\"100 divided by {value} is {result}\")\n",
        "except ValueError:\n",
        "    print(\"Error: Please enter a valid integer!\")\n",
        "except ZeroDivisionError:\n",
        "    print(\"Error: Cannot divide by zero!\")"
      ]
    },
    {
      "cell_type": "markdown",
      "metadata": {},
      "source": [
        "**Explanation**:\n",
        "- The first `try-except` catches invalid inputs (e.g., letters instead of numbers).\n",
        "- The second handles both invalid inputs (`ValueError`) and division by zero (`ZeroDivisionError`).\n",
        "- Error handling ensures your program continues running despite errors."
      ]
    },
    {
      "cell_type": "markdown",
      "metadata": {},
      "source": [
        "### Exercise 3: Error Handling\n",
        "1. Write a program that asks the user for two numbers and divides the first by the second.\n",
        "2. Use `try-except` to handle both `ValueError` (invalid input) and `ZeroDivisionError`.\n",
        "3. Print an appropriate message for each error or the result if successful."
      ]
    },
    {
      "cell_type": "code",
      "execution_count": 5,
      "metadata": {},
      "outputs": [],
      "source": [
        "# Solution in file DAY1.ipynb"
      ]
    },
    {
      "cell_type": "markdown",
      "metadata": {},
      "source": [
        "## 4. Basic File Handling\n",
        "\n",
        "File handling lets you read from and write to files, useful for data science tasks like loading datasets.\n",
        "- Use `open()` with modes: `'r'` (read), `'w'` (write), `'a'` (append).\n",
        "- Use `with` statements to ensure files are properly closed.\n",
        "\n",
        "Let's try reading and writing a text file."
      ]
    },
    {
      "cell_type": "code",
      "execution_count": null,
      "metadata": {},
      "outputs": [],
      "source": [
        "# Writing to a file\n",
        "with open('data.txt', 'w') as file:\n",
        "    file.write(\"Python\\nData Science\\nWorkshop\")\n",
        "\n",
        "# Reading from a file\n",
        "with open('data.txt', 'r') as file:\n",
        "    content = file.readlines()\n",
        "    print(\"File contents:\")\n",
        "    for line in content:\n",
        "        print(line.strip())  # strip() removes trailing newlines\n",
        "\n",
        "# Appending to a file\n",
        "with open('data.txt', 'a') as file:\n",
        "    file.write(\"\\nIntermediate Python\")\n",
        "\n",
        "# Read again to see changes\n",
        "with open('data.txt', 'r') as file:\n",
        "    print(\"\\nUpdated file contents:\")\n",
        "    print(file.read())"
      ]
    },
    {
      "cell_type": "markdown",
      "metadata": {},
      "source": [
        "**Explanation**:\n",
        "- `'w'` mode creates or overwrites a file; `'a'` appends to it.\n",
        "- `readlines()` reads all lines into a list; `read()` reads the entire file as a string.\n",
        "- `strip()` removes extra whitespace or newlines.\n",
        "- File handling is essential for working with datasets in data science."
      ]
    },
    {
      "cell_type": "markdown",
      "metadata": {},
      "source": [
        "### Exercise 4: File Handling\n",
        "1. Create a file called `notes.txt` and write two lines: your name and a short message.\n",
        "2. Read and print the contents of `notes.txt`.\n",
        "3. Append a new line with today's date (e.g., \"July 13, 2025\") and print the updated contents."
      ]
    },
    {
      "cell_type": "code",
      "execution_count": 6,
      "metadata": {},
      "outputs": [],
      "source": [
        "# Solution in file DAY1.ipynb"
      ]
    },
    {
      "cell_type": "markdown",
      "metadata": {},
      "source": [
        "## 5. Taking Multiple Inputs and Using `map()`\n",
        "\n",
        "In data science, you often need to process multiple user inputs efficiently. The `input()` function combined with `split()` and `map()` allows you to take multiple values and convert them to the desired type.\n",
        "- `input().split()` splits a string into a list based on spaces.\n",
        "- `map(function, iterable)` applies a function (e.g., `int`, `float`) to each item in an iterable.\n",
        "- Type casting converts data types (e.g., string to integer).\n",
        "\n",
        "Let's see examples."
      ]
    },
    {
      "cell_type": "code",
      "execution_count": null,
      "metadata": {},
      "outputs": [],
      "source": [
        "# Taking multiple integers as input\n",
        "numbers = input(\"Enter multiple numbers separated by spaces: \").split()\n",
        "numbers = list(map(int, numbers))  # Convert each string to integer\n",
        "print(\"Numbers:\", numbers)\n",
        "print(\"Sum of numbers:\", sum(numbers))\n",
        "\n",
        "# Taking multiple floats\n",
        "scores = input(\"Enter multiple scores (e.g., 85.5 90.0 78.3): \").split()\n",
        "scores = list(map(float, scores))  # Convert each string to float\n",
        "print(\"Scores:\", scores)\n",
        "print(\"Average score:\", sum(scores) / len(scores))\n",
        "\n",
        "# Combining with error handling\n",
        "try:\n",
        "    values = input(\"Enter two integers separated by a comma: \").split(',')\n",
        "    x, y = map(int, values)  # Unpack two values\n",
        "    print(f\"Product of {x} and {y} is {x * y}\")\n",
        "except ValueError:\n",
        "    print(\"Error: Please enter valid integers separated by a comma!\")"
      ]
    },
    {
      "cell_type": "markdown",
      "metadata": {},
      "source": [
        "**Explanation**:\n",
        "- `split()` without arguments splits on spaces; `split(',')` splits on commas.\n",
        "- `map(int, numbers)` applies `int` to each string in the list, converting to integers.\n",
        "- `list(map(...))` converts the map object to a list.\n",
        "- Combining `map()` with error handling ensures robust input processing, useful for data science tasks."
      ]
    },
    {
      "cell_type": "markdown",
      "metadata": {},
      "source": [
        "### Exercise 5: Taking Multiple Inputs and Using `map()`\n",
        "1. Ask the user to enter three integers separated by spaces and use `map()` to convert them to a list of integers.\n",
        "2. Calculate and print the maximum value in the list using `max()`.\n",
        "3. Use `try-except` to handle invalid inputs (e.g., non-integer values) and print an error message if needed."
      ]
    },
    {
      "cell_type": "code",
      "execution_count": 7,
      "metadata": {},
      "outputs": [],
      "source": [
        "# Solution in file DAY1.ipynb"
      ]
    },
    {
      "cell_type": "markdown",
      "metadata": {},
      "source": [
        "## Next Steps\n",
        "\n",
        "Great job! You've learned intermediate Python concepts:\n",
        "- Functions\n",
        "- List Comprehensions\n",
        "- Error Handling\n",
        "- Basic File Handling\n",
        "- Taking Multiple Inputs and Using `map()`\n",
        "\n",
        "Complete the exercises to solidify your skills. In the next workshop, we'll explore data science libraries like NumPy, pandas, and matplotlib. Experiment with the code cells and try modifying the examples!"
      ]
    }
  ],
  "metadata": {
    "kernelspec": {
      "display_name": "Python 3",
      "language": "python",
      "name": "python3"
    },
    "language_info": {
      "codemirror_mode": {
        "name": "ipython",
        "version": 3
      },
      "file_extension": ".py",
      "mimetype": "text/x-python",
      "name": "python",
      "nbconvert_exporter": "python",
      "pygments_lexer": "ipython3",
      "version": "3.12.1"
    }
  },
  "nbformat": 4,
  "nbformat_minor": 4
}
