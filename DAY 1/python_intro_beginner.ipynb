{
  "cells": [
    {
      "cell_type": "markdown",
      "metadata": {},
      "source": [
        "# Introduction to Python for Data Science\n",
        "\n",
        "## Welcome to Python!\n",
        "This notebook is designed for beginners to learn the basics of Python programming. Python is a versatile and beginner-friendly language widely used in data science for its simplicity and powerful libraries. In this workshop, we'll cover:\n",
        "- Variables and Data Types\n",
        "- Basic Operations\n",
        "- Lists\n",
        "- Basic Control Structures (if statements and loops)\n",
        "- Input and Output\n",
        "- Lists, Tuples, Sets, and Dictionaries\n",
        "\n",
        "Each section includes explanations, examples, and small exercises to practice. Run the code cells by clicking them and pressing `Shift + Enter`. Complete the exercises to reinforce your learning!"
      ]
    },
    {
      "cell_type": "markdown",
      "metadata": {},
      "source": [
        "## 1. Variables and Data Types\n",
        "\n",
        "Variables are like containers that store data. Python supports several data types, such as:\n",
        "- **Integers**: Whole numbers (e.g., 5, -3)\n",
        "- **Floats**: Decimal numbers (e.g., 3.14, 0.001)\n",
        "- **Strings**: Text (e.g., \"Hello\", 'Python')\n",
        "- **Booleans**: True or False\n",
        "\n",
        "You don't need to declare the type explicitly; Python figures it out automatically. Let's see some examples!"
      ]
    },
    {
      "cell_type": "code",
      "execution_count": 1,
      "metadata": {},
      "outputs": [
        {
          "name": "stdout",
          "output_type": "stream",
          "text": [
            "Age: 25 - Type: <class 'int'>\n",
            "Height: 5.9 - Type: <class 'float'>\n",
            "Name: Alice - Type: <class 'str'>\n",
            "Is Student: True - Type: <class 'bool'>\n"
          ]
        }
      ],
      "source": [
        "# Creating variables\n",
        "age = 25  # Integer\n",
        "height = 5.9  # Float\n",
        "name = \"Alice\"  # String\n",
        "is_student = True  # Boolean\n",
        "\n",
        "# Print variables and their types\n",
        "print(\"Age:\", age, \"- Type:\", type(age))\n",
        "print(\"Height:\", height, \"- Type:\", type(height))\n",
        "print(\"Name:\", name, \"- Type:\", type(name))\n",
        "print(\"Is Student:\", is_student, \"- Type:\", type(is_student))"
      ]
    },
    {
      "cell_type": "markdown",
      "metadata": {},
      "source": [
        "**Explanation**: \n",
        "- We created variables using `=` to assign values.\n",
        "- The `type()` function shows the data type of each variable.\n",
        "- `print()` displays output to the console.\n",
        "Run the above cell to see the values and their types!"
      ]
    },
    {
      "cell_type": "markdown",
      "metadata": {},
      "source": [
        "### Exercise 1: Variables and Data Types\n",
        "1. Create a variable `temperature` with a value of `36.6` (a float).\n",
        "2. Create a variable `city` with the name of your favorite city (a string).\n",
        "3. Create a variable `is_sunny` with a boolean value `True` or `False` based on today's weather.\n",
        "4. Print each variable along with its type using `print()` and `type()`."
      ]
    },
    {
      "cell_type": "code",
      "execution_count": 2,
      "metadata": {},
      "outputs": [
        {
          "name": "stdout",
          "output_type": "stream",
          "text": [
            "Temperature: 36.6 - Type: <class 'float'>\n",
            "City: New York - Type: <class 'str'>\n",
            "Sunny: True - Type: <class 'bool'>\n"
          ]
        }
      ],
      "source": [
        "# Write your code here\n",
        "temperature = 36.6\n",
        "city = 'New York'\n",
        "is_sunny = True\n",
        "\n",
        "# Print variables and their types\n",
        "print(\"Temperature:\", temperature, \"- Type:\", type(temperature))\n",
        "print(\"City:\", city, \"- Type:\", type(city))\n",
        "print(\"Sunny:\", is_sunny, \"- Type:\", type(is_sunny))"
      ]
    },
    {
      "cell_type": "markdown",
      "metadata": {},
      "source": [
        "## 2. Basic Operations\n",
        "\n",
        "Python allows you to perform arithmetic and string operations easily:\n",
        "- Arithmetic: `+`, `-`, `*`, `/`, `//` (integer division), `%` (modulus), `**` (exponent)\n",
        "- String concatenation: Use `+` to combine strings\n",
        "\n",
        "Let's try some examples."
      ]
    },
    {
      "cell_type": "code",
      "execution_count": 3,
      "metadata": {},
      "outputs": [
        {
          "name": "stdout",
          "output_type": "stream",
          "text": [
            "Addition: 13\n",
            "Subtraction: 7\n",
            "Multiplication: 30\n",
            "Division: 3.3333333333333335\n",
            "Integer Division: 3\n",
            "Modulus: 1\n",
            "Exponent: 100\n",
            "Message: Hello, Bob!\n"
          ]
        }
      ],
      "source": [
        "# Arithmetic operations\n",
        "a = 10\n",
        "b = 3\n",
        "print(\"Addition:\", a + b)\n",
        "print(\"Subtraction:\", a - b)\n",
        "print(\"Multiplication:\", a * b)\n",
        "print(\"Division:\", a / b)\n",
        "print(\"Integer Division:\", a // b)\n",
        "print(\"Modulus:\", a % b)\n",
        "print(\"Exponent:\", a ** 2)\n",
        "\n",
        "# String operations\n",
        "greeting = \"Hello\"\n",
        "user = \"Bob\"\n",
        "message = greeting + \", \" + user + \"!\"\n",
        "print(\"Message:\", message)"
      ]
    },
    {
      "cell_type": "markdown",
      "metadata": {},
      "source": [
        "**Explanation**:\n",
        "- Arithmetic operations work as expected. `//` gives the quotient without decimals, and `%` gives the remainder.\n",
        "- Strings can be combined using `+`. Notice the comma and space in the middle for readability."
      ]
    },
    {
      "cell_type": "markdown",
      "metadata": {},
      "source": [
        "### Exercise 2: Basic Operations\n",
        "1. Create two variables `x` and `y` with values 15 and 4.\n",
        "2. Calculate and print their sum, product, and modulus.\n",
        "3. Create two strings `first_name` and `last_name`, then combine them into a `full_name` with a space between them and print it."
      ]
    },
    {
      "cell_type": "code",
      "execution_count": 10,
      "metadata": {},
      "outputs": [
        {
          "name": "stdout",
          "output_type": "stream",
          "text": [
            "Sum : 19\n",
            "Product : 60\n",
            "Modulus : 3\n",
            "My name : Aryan Gupta\n"
          ]
        }
      ],
      "source": [
        "# Write your code here\n",
        "x = 15\n",
        "y = 4\n",
        "\n",
        "print(\"Sum :\",x+y)\n",
        "print(\"Product :\",x*y)\n",
        "print(\"Modulus :\",x%y)\n",
        "\n",
        "first_name = \"Aryan\"\n",
        "last_name = \"Gupta\"\n",
        "full_name = first_name +\" \"+ last_name\n",
        "\n",
        "print(\"My name :\",full_name)"
      ]
    },
    {
      "cell_type": "markdown",
      "metadata": {},
      "source": [
        "## 3. Lists\n",
        "\n",
        "Lists are used to store multiple items in a single variable. They are ordered, mutable (changeable), and can hold mixed data types.\n",
        "- Create a list using square brackets `[]`.\n",
        "- Access items using indices (starting from 0).\n",
        "- Common methods: `append()`, `remove()`, `len()`.\n",
        "\n",
        "Let's create and manipulate a list."
      ]
    },
    {
      "cell_type": "code",
      "execution_count": 11,
      "metadata": {},
      "outputs": [
        {
          "name": "stdout",
          "output_type": "stream",
          "text": [
            "Original list: ['apple', 'banana', 'orange', 42]\n",
            "First fruit: apple\n",
            "Last fruit: 42\n",
            "After appending grape: ['apple', 'banana', 'orange', 42, 'grape']\n",
            "After removing 42: ['apple', 'banana', 'orange', 'grape']\n",
            "Number of items: 4\n"
          ]
        }
      ],
      "source": [
        "# Creating a list\n",
        "fruits = [\"apple\", \"banana\", \"orange\", 42]  # Mixed types\n",
        "print(\"Original list:\", fruits)\n",
        "\n",
        "# Accessing elements\n",
        "print(\"First fruit:\", fruits[0])\n",
        "print(\"Last fruit:\", fruits[-1])  # Negative index counts from end\n",
        "\n",
        "# Modifying list\n",
        "fruits.append(\"grape\")  # Add to end\n",
        "print(\"After appending grape:\", fruits)\n",
        "\n",
        "fruits.remove(42)  # Remove specific item\n",
        "print(\"After removing 42:\", fruits)\n",
        "\n",
        "# Length of list\n",
        "print(\"Number of items:\", len(fruits))"
      ]
    },
    {
      "cell_type": "markdown",
      "metadata": {},
      "source": [
        "**Explanation**:\n",
        "- Lists can hold different data types (e.g., strings and numbers).\n",
        "- `fruits[0]` accesses the first item; `fruits[-1]` accesses the last.\n",
        "- `append()` adds an item, `remove()` deletes a specific item, and `len()` returns the list's length."
      ]
    },
    {
      "cell_type": "markdown",
      "metadata": {},
      "source": [
        "### Exercise 3: Lists\n",
        "1. Create a list called `colors` with at least three color names.\n",
        "2. Add a new color to the list using `append()`.\n",
        "3. Remove the second color from the list using `pop(1)` or `remove()`.\n",
        "4. Print the updated list and its length."
      ]
    },
    {
      "cell_type": "code",
      "execution_count": 16,
      "metadata": {},
      "outputs": [
        {
          "name": "stdout",
          "output_type": "stream",
          "text": [
            "Original list: ['red', 'blue', 'pink']\n",
            "\n",
            "After appending yellow: ['red', 'blue', 'pink', 'yellow']\n",
            "After removing second color: ['red', 'pink', 'yellow']\n",
            "\n",
            "Number of items: 3\n"
          ]
        }
      ],
      "source": [
        "# Write your code here\n",
        "colors = [\"red\", \"blue\", \"pink\"]  \n",
        "print(\"Original list:\", colors)\n",
        "\n",
        "# Modifying list\n",
        "colors.append(\"yellow\")  \n",
        "print(\"\\nAfter appending yellow:\", colors)\n",
        "\n",
        "colors.remove('blue')  # Remove specific item\n",
        "print(\"After removing second color:\", colors)\n",
        "\n",
        "# Length of list\n",
        "print(\"\\nNumber of items:\", len(colors))"
      ]
    },
    {
      "cell_type": "markdown",
      "metadata": {},
      "source": [
        "## 4. Basic Control Structures\n",
        "\n",
        "Control structures like `if` statements and `for` loops help control the flow of your program.\n",
        "- **If statements**: Execute code based on conditions.\n",
        "- **For loops**: Iterate over a sequence (like a list).\n",
        "\n",
        "Let's see them in action."
      ]
    },
    {
      "cell_type": "code",
      "execution_count": 17,
      "metadata": {},
      "outputs": [
        {
          "name": "stdout",
          "output_type": "stream",
          "text": [
            "Grade: B\n",
            "\n",
            "Fruits in the list:\n",
            "apple\n",
            "banana\n",
            "orange\n",
            "grape\n"
          ]
        }
      ],
      "source": [
        "# If statement\n",
        "score = 85\n",
        "if score >= 90:\n",
        "    print(\"Grade: A\")\n",
        "elif score >= 80:\n",
        "    print(\"Grade: B\")\n",
        "else:\n",
        "    print(\"Grade: C or below\")\n",
        "\n",
        "# For loop\n",
        "print(\"\\nFruits in the list:\")\n",
        "for fruit in fruits:\n",
        "    print(fruit)"
      ]
    },
    {
      "cell_type": "markdown",
      "metadata": {},
      "source": [
        "**Explanation**:\n",
        "- The `if-elif-else` structure checks conditions in order. Only the first true block executes.\n",
        "- The `for` loop iterates over each item in the `fruits` list, printing them one by one.\n",
        "- `\\n` in the print statement adds a blank line for readability."
      ]
    },
    {
      "cell_type": "markdown",
      "metadata": {},
      "source": [
        "### Exercise 4: Control Structures\n",
        "1. Create a variable `number` with any integer value.\n",
        "2. Use an `if-elif-else` statement to check if the number is positive, negative, or zero, and print an appropriate message.\n",
        "3. Create a list of numbers `[1, 2, 3, 4, 5]` and use a `for` loop to print only the even numbers."
      ]
    },
    {
      "cell_type": "code",
      "execution_count": 27,
      "metadata": {},
      "outputs": [
        {
          "name": "stdout",
          "output_type": "stream",
          "text": [
            "Positive\n",
            "Numbers in the list :\n",
            "1\n",
            "2\n",
            "3\n",
            "4\n",
            "5\n"
          ]
        }
      ],
      "source": [
        "# Write your code here\n",
        "number = 47\n",
        "if number > 0:\n",
        "    print(\"Positive\")\n",
        "elif number < 0:\n",
        "    print(\"Negative\")\n",
        "else:\n",
        "    print(\"Zero\")\n",
        "\n",
        "my_list = [1,2,3,4,5]\n",
        "print(\"Numbers in the list :\")\n",
        "for i in my_list:\n",
        "    print(i)"
      ]
    },
    {
      "cell_type": "markdown",
      "metadata": {},
      "source": [
        "## 5. Input and Output\n",
        "\n",
        "Python makes it easy to interact with users through input and output.\n",
        "- **Output**: The `print()` function displays text or values. You can format output using f-strings for cleaner results.\n",
        "- **Input**: The `input()` function prompts the user to type something, returning it as a string.\n",
        "\n",
        "Let's try examples of taking user input and displaying formatted output."
      ]
    },
    {
      "cell_type": "code",
      "execution_count": 28,
      "metadata": {},
      "outputs": [
        {
          "name": "stdout",
          "output_type": "stream",
          "text": [
            "Hello, Aryan ! Welcome to Python!\n",
            "Wow, Aryan, you are 18 years old!\n",
            "Your height squared is 2.56 square meters.\n"
          ]
        }
      ],
      "source": [
        "# Basic input\n",
        "name = input(\"Enter your name: \")\n",
        "print(\"Hello,\", name, \"! Welcome to Python!\")\n",
        "\n",
        "# Using f-strings for cleaner output\n",
        "age = input(\"Enter your age: \")\n",
        "print(f\"Wow, {name}, you are {age} years old!\")\n",
        "\n",
        "# Converting input to a number\n",
        "height = float(input(\"Enter your height in meters: \"))\n",
        "height_squared = height ** 2\n",
        "print(f\"Your height squared is {height_squared:.2f} square meters.\")"
      ]
    },
    {
      "cell_type": "markdown",
      "metadata": {},
      "source": [
        "**Explanation**:\n",
        "- `input(\"Enter your name: \")` prompts the user and stores their response as a string.\n",
        "- f-strings (`f\"text {variable}\"`) make it easy to embed variables in text.\n",
        "- `float()` converts a string input to a number for calculations.\n",
        "- The `.2f` in `{height_squared:.2f}` formats the number to two decimal places.\n",
        "Run the cell and try entering your name, age, and height!"
      ]
    },
    {
      "cell_type": "markdown",
      "metadata": {},
      "source": [
        "### Exercise 5: Input and Output\n",
        "1. Use `input()` to ask the user for their favorite number.\n",
        "2. Convert the input to an integer and multiply it by 2.\n",
        "3. Use an f-string to print a message like: \"Your favorite number doubled is X!\", where X is the result."
      ]
    },
    {
      "cell_type": "code",
      "execution_count": 30,
      "metadata": {},
      "outputs": [
        {
          "name": "stdout",
          "output_type": "stream",
          "text": [
            "Your favorite number doubled is 64.\n"
          ]
        }
      ],
      "source": [
        "# Write your code here\n",
        "n = int(input(\"Enter your favorite number :\"))\n",
        "\n",
        "print(f\"Your favorite number doubled is {2*n}.\")"
      ]
    },
    {
      "cell_type": "markdown",
      "metadata": {},
      "source": [
        "## 6. Lists, Tuples, Sets, and Dictionaries\n",
        "\n",
        "Python provides several data structures to store and manage collections of data. Each has unique properties and uses in data science:\n",
        "- **Lists**: Ordered, mutable collections (already covered in Section 3).\n",
        "- **Tuples**: Ordered, immutable collections.\n",
        "- **Sets**: Unordered, mutable collections of unique items.\n",
        "- **Dictionaries**: Unordered, mutable collections of key-value pairs.\n",
        "\n",
        "Let's explore each with examples and common functions/methods."
      ]
    },
    {
      "cell_type": "code",
      "execution_count": 31,
      "metadata": {},
      "outputs": [
        {
          "name": "stdout",
          "output_type": "stream",
          "text": [
            "=== Tuples ===\n",
            "Tuple: (10, 20)\n",
            "First element: 10\n",
            "Length: 2\n",
            "\n",
            "=== Sets ===\n",
            "Set (duplicates removed): {1, 2, 3, 4}\n",
            "After adding 5: {1, 2, 3, 4, 5}\n",
            "After removing 3: {1, 2, 4, 5}\n",
            "Is 2 in set? True\n",
            "\n",
            "=== Dictionaries ===\n",
            "Dictionary: {'name': 'Alice', 'age': 20, 'major': 'Data Science'}\n",
            "Student's name: Alice\n",
            "After adding grade: {'name': 'Alice', 'age': 20, 'major': 'Data Science', 'grade': 'A'}\n",
            "After removing age: {'name': 'Alice', 'major': 'Data Science', 'grade': 'A'}\n",
            "Keys: dict_keys(['name', 'major', 'grade'])\n",
            "Values: dict_values(['Alice', 'Data Science', 'A'])\n"
          ]
        }
      ],
      "source": [
        "# Tuples: Immutable, ordered collections\n",
        "print(\"=== Tuples ===\")\n",
        "coordinates = (10, 20)  # Create a tuple with parentheses\n",
        "print(\"Tuple:\", coordinates)\n",
        "print(\"First element:\", coordinates[0])  # Access by index\n",
        "print(\"Length:\", len(coordinates))  # Length of tuple\n",
        "# coordinates[0] = 15  # This would raise an error because tuples are immutable\n",
        "\n",
        "# Sets: Unordered, unique elements\n",
        "print(\"\\n=== Sets ===\")\n",
        "numbers = {1, 2, 2, 3, 4}  # Create a set with curly braces\n",
        "print(\"Set (duplicates removed):\", numbers)\n",
        "numbers.add(5)  # Add an element\n",
        "print(\"After adding 5:\", numbers)\n",
        "numbers.remove(3)  # Remove an element\n",
        "print(\"After removing 3:\", numbers)\n",
        "print(\"Is 2 in set?\", 2 in numbers)  # Check membership\n",
        "\n",
        "# Dictionaries: Key-value pairs\n",
        "print(\"\\n=== Dictionaries ===\")\n",
        "student = {\"name\": \"Alice\", \"age\": 20, \"major\": \"Data Science\"}  # Create a dictionary\n",
        "print(\"Dictionary:\", student)\n",
        "print(\"Student's name:\", student[\"name\"])  # Access by key\n",
        "student[\"grade\"] = \"A\"  # Add a new key-value pair\n",
        "print(\"After adding grade:\", student)\n",
        "del student[\"age\"]  # Remove a key-value pair\n",
        "print(\"After removing age:\", student)\n",
        "print(\"Keys:\", student.keys())  # Get all keys\n",
        "print(\"Values:\", student.values())  # Get all values"
      ]
    },
    {
      "cell_type": "markdown",
      "metadata": {},
      "source": [
        "**Explanation**:\n",
        "- **Tuples**: Created with `()`. Immutable, so you can't change elements after creation. Useful for fixed data. Use `len()` for length and indexing like lists.\n",
        "- **Sets**: Created with `{}` or `set()`. Automatically remove duplicates. Use `add()`, `remove()`, and `in` for membership testing.\n",
        "- **Dictionaries**: Created with `{key: value}`. Access values using keys. Use `keys()`, `values()`, and `del` for manipulation.\n",
        "Run the cell to see how these data structures work!"
      ]
    },
    {
      "cell_type": "markdown",
      "metadata": {},
      "source": [
        "### Exercise 6: Lists, Tuples, Sets, and Dictionaries\n",
        "1. Create a tuple called `point` with two numbers representing an (x, y) coordinate. Print its first element.\n",
        "2. Create a set called `unique_nums` with some numbers, including duplicates. Add a new number and print the set.\n",
        "3. Create a dictionary called `book` with keys `\"title\"`, `\"author\"`, and `\"year\"`. Add a new key `\"genre\"` and print the dictionary."
      ]
    },
    {
      "cell_type": "code",
      "execution_count": 39,
      "metadata": {},
      "outputs": [
        {
          "name": "stdout",
          "output_type": "stream",
          "text": [
            "First element : 5\n",
            "\n",
            "Set : {1, 2, 5, 6}\n",
            "After adding 100: {1, 2, 100, 5, 6}\n",
            "\n",
            "Dictionary: {'title': 'Theory of Evolution', 'author': 'Charles Darwin', 'year': 1950}\n",
            "New Dictionary: {'title': 'Theory of Evolution', 'author': 'Charles Darwin', 'year': 1950, 'genre': 'Science'}\n"
          ]
        }
      ],
      "source": [
        "# Write your code here\n",
        "point = (5,4)\n",
        "print(\"First element :\",point[0])\n",
        "\n",
        "unique_nums = {1,2,5,6,5,2}\n",
        "print(\"\\nSet :\", unique_nums)\n",
        "unique_nums.add(100)  # Add an element\n",
        "print(\"After adding 100:\", unique_nums)\n",
        "\n",
        "book = {'title':\"Theory of Evolution\",'author':'Charles Darwin','year':1950}\n",
        "print(\"\\nDictionary:\", book)\n",
        "\n",
        "book['genre']='Science'\n",
        "print(\"New Dictionary:\", book)"
      ]
    },
    {
      "cell_type": "markdown",
      "metadata": {},
      "source": [
        "## Next Steps\n",
        "\n",
        "Congratulations! You've learned the basics of Python:\n",
        "- Variables and data types\n",
        "- Basic operations\n",
        "- Lists\n",
        "- Control structures\n",
        "- Input and output\n",
        "- Lists, tuples, sets, and dictionaries\n",
        "\n",
        "Complete the exercises above to practice what you've learned. In the next workshop, we'll build on these concepts and introduce data science libraries like NumPy and pandas. Experiment with the code cells by changing values or creating new ones!"
      ]
    }
  ],
  "metadata": {
    "kernelspec": {
      "display_name": "Python 3",
      "language": "python",
      "name": "python3"
    },
    "language_info": {
      "codemirror_mode": {
        "name": "ipython",
        "version": 3
      },
      "file_extension": ".py",
      "mimetype": "text/x-python",
      "name": "python",
      "nbconvert_exporter": "python",
      "pygments_lexer": "ipython3",
      "version": "3.12.1"
    }
  },
  "nbformat": 4,
  "nbformat_minor": 4
}
